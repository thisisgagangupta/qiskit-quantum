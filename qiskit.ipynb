{
 "cells": [
  {
   "cell_type": "code",
   "execution_count": 1,
   "id": "d255230a-e63a-469a-a1fe-9d0dfc555ee4",
   "metadata": {},
   "outputs": [],
   "source": [
    "import qiskit"
   ]
  },
  {
   "cell_type": "code",
   "execution_count": 2,
   "id": "7ffe9a8e-6560-476c-b2d3-d095a78f0601",
   "metadata": {},
   "outputs": [],
   "source": [
    "from qiskit import IBMQ"
   ]
  },
  {
   "cell_type": "code",
   "execution_count": 5,
   "id": "82decb7c-df43-428b-9d38-91a5131c8d7d",
   "metadata": {},
   "outputs": [
    {
     "name": "stdout",
     "output_type": "stream",
     "text": [
      "Defaulting to user installation because normal site-packages is not writeable\n",
      "Collecting qiskit_ibm_provider\n",
      "  Using cached qiskit_ibm_provider-0.10.0-py3-none-any.whl.metadata (7.0 kB)\n",
      "Collecting qiskit>=0.45.0 (from qiskit_ibm_provider)\n",
      "  Using cached qiskit-1.0.2-cp38-abi3-win_amd64.whl.metadata (12 kB)\n",
      "Requirement already satisfied: requests>=2.19 in c:\\users\\administrator\\appdata\\roaming\\python\\python311\\site-packages (from qiskit_ibm_provider) (2.31.0)\n",
      "Requirement already satisfied: requests-ntlm>=1.1.0 in c:\\users\\administrator\\appdata\\roaming\\python\\python311\\site-packages (from qiskit_ibm_provider) (1.1.0)\n",
      "Requirement already satisfied: numpy>=1.13 in c:\\users\\administrator\\appdata\\roaming\\python\\python311\\site-packages (from qiskit_ibm_provider) (1.23.5)\n",
      "Requirement already satisfied: urllib3>=1.21.1 in c:\\users\\administrator\\appdata\\roaming\\python\\python311\\site-packages (from qiskit_ibm_provider) (2.2.1)\n",
      "Requirement already satisfied: python-dateutil>=2.8.0 in c:\\users\\administrator\\appdata\\roaming\\python\\python311\\site-packages (from qiskit_ibm_provider) (2.8.2)\n",
      "Requirement already satisfied: websocket-client>=1.5.1 in c:\\users\\administrator\\appdata\\roaming\\python\\python311\\site-packages (from qiskit_ibm_provider) (1.6.1)\n",
      "Requirement already satisfied: websockets>=10.0 in c:\\users\\administrator\\appdata\\roaming\\python\\python311\\site-packages (from qiskit_ibm_provider) (12.0)\n",
      "Requirement already satisfied: typing-extensions>=4.3 in c:\\users\\administrator\\appdata\\roaming\\python\\python311\\site-packages (from qiskit_ibm_provider) (4.10.0)\n",
      "Requirement already satisfied: six>=1.5 in c:\\users\\administrator\\appdata\\roaming\\python\\python311\\site-packages (from python-dateutil>=2.8.0->qiskit_ibm_provider) (1.16.0)\n",
      "Requirement already satisfied: rustworkx>=0.14.0 in c:\\users\\administrator\\appdata\\roaming\\python\\python311\\site-packages (from qiskit>=0.45.0->qiskit_ibm_provider) (0.14.2)\n",
      "Requirement already satisfied: scipy>=1.5 in c:\\users\\administrator\\appdata\\roaming\\python\\python311\\site-packages (from qiskit>=0.45.0->qiskit_ibm_provider) (1.11.1)\n",
      "Requirement already satisfied: sympy>=1.3 in c:\\users\\administrator\\appdata\\roaming\\python\\python311\\site-packages (from qiskit>=0.45.0->qiskit_ibm_provider) (1.12)\n",
      "Requirement already satisfied: dill>=0.3 in c:\\users\\administrator\\appdata\\roaming\\python\\python311\\site-packages (from qiskit>=0.45.0->qiskit_ibm_provider) (0.3.8)\n",
      "Requirement already satisfied: stevedore>=3.0.0 in c:\\users\\administrator\\appdata\\roaming\\python\\python311\\site-packages (from qiskit>=0.45.0->qiskit_ibm_provider) (5.2.0)\n",
      "Requirement already satisfied: symengine>=0.11 in c:\\users\\administrator\\appdata\\roaming\\python\\python311\\site-packages (from qiskit>=0.45.0->qiskit_ibm_provider) (0.11.0)\n",
      "Requirement already satisfied: charset-normalizer<4,>=2 in c:\\users\\administrator\\appdata\\roaming\\python\\python311\\site-packages (from requests>=2.19->qiskit_ibm_provider) (2.0.12)\n",
      "Requirement already satisfied: idna<4,>=2.5 in c:\\users\\administrator\\appdata\\roaming\\python\\python311\\site-packages (from requests>=2.19->qiskit_ibm_provider) (3.4)\n",
      "Requirement already satisfied: certifi>=2017.4.17 in c:\\users\\administrator\\appdata\\roaming\\python\\python311\\site-packages (from requests>=2.19->qiskit_ibm_provider) (2022.12.7)\n",
      "Requirement already satisfied: ntlm-auth>=1.0.2 in c:\\users\\administrator\\appdata\\roaming\\python\\python311\\site-packages (from requests-ntlm>=1.1.0->qiskit_ibm_provider) (1.5.0)\n",
      "Requirement already satisfied: cryptography>=1.3 in c:\\users\\administrator\\appdata\\roaming\\python\\python311\\site-packages (from requests-ntlm>=1.1.0->qiskit_ibm_provider) (40.0.1)\n",
      "Requirement already satisfied: cffi>=1.12 in c:\\users\\administrator\\appdata\\roaming\\python\\python311\\site-packages (from cryptography>=1.3->requests-ntlm>=1.1.0->qiskit_ibm_provider) (1.15.1)\n",
      "Requirement already satisfied: pbr!=2.1.0,>=2.0.0 in c:\\users\\administrator\\appdata\\roaming\\python\\python311\\site-packages (from stevedore>=3.0.0->qiskit>=0.45.0->qiskit_ibm_provider) (6.0.0)\n",
      "Requirement already satisfied: mpmath>=0.19 in c:\\users\\administrator\\appdata\\roaming\\python\\python311\\site-packages (from sympy>=1.3->qiskit>=0.45.0->qiskit_ibm_provider) (1.3.0)\n",
      "Requirement already satisfied: pycparser in c:\\users\\administrator\\appdata\\roaming\\python\\python311\\site-packages (from cffi>=1.12->cryptography>=1.3->requests-ntlm>=1.1.0->qiskit_ibm_provider) (2.21)\n",
      "Using cached qiskit_ibm_provider-0.10.0-py3-none-any.whl (249 kB)\n",
      "Using cached qiskit-1.0.2-cp38-abi3-win_amd64.whl (4.1 MB)\n",
      "Installing collected packages: qiskit, qiskit_ibm_provider\n",
      "  Attempting uninstall: qiskit\n",
      "    Found existing installation: qiskit 0.44.0\n",
      "    Uninstalling qiskit-0.44.0:\n",
      "      Successfully uninstalled qiskit-0.44.0\n",
      "  Rolling back uninstall of qiskit\n",
      "  Moving to c:\\users\\administrator\\appdata\\roaming\\python\\python311\\site-packages\\qiskit-0.44.0.dist-info\\\n",
      "   from C:\\Users\\Administrator\\AppData\\Roaming\\Python\\Python311\\site-packages\\~iskit-0.44.0.dist-info\n",
      "Note: you may need to restart the kernel to use updated packages.\n"
     ]
    },
    {
     "name": "stderr",
     "output_type": "stream",
     "text": [
      "DEPRECATION: Loading egg at c:\\program files\\python311\\lib\\site-packages\\vboxapi-1.0-py3.11.egg is deprecated. pip 24.3 will enforce this behaviour change. A possible replacement is to use pip for package installation.. Discussion can be found at https://github.com/pypa/pip/issues/12330\n",
      "ERROR: Could not install packages due to an OSError: [WinError 5] Access is denied: 'C:\\\\Users\\\\Administrator\\\\AppData\\\\Roaming\\\\Python\\\\Python311\\\\site-packages\\\\qiskit\\\\_accelerate.pyd'\n",
      "Check the permissions.\n",
      "\n"
     ]
    }
   ],
   "source": [
    "pip install qiskit_ibm_provider"
   ]
  },
  {
   "cell_type": "code",
   "execution_count": 6,
   "id": "9534bbb5-583b-4347-b7e0-3fda9b327719",
   "metadata": {},
   "outputs": [
    {
     "name": "stderr",
     "output_type": "stream",
     "text": [
      "configrc.store_credentials:WARNING:2024-04-06 12:35:57,055: Credentials already present. Set overwrite=True to overwrite.\n"
     ]
    }
   ],
   "source": [
    "IBMQ.save_account('enter your token')"
   ]
  },
  {
   "cell_type": "code",
   "execution_count": 7,
   "id": "142065c0-b99f-41a1-bbc8-2f1f32c90030",
   "metadata": {},
   "outputs": [
    {
     "data": {
      "text/plain": [
       "<AccountProvider for IBMQ(hub='ibm-q', group='open', project='main')>"
      ]
     },
     "execution_count": 7,
     "metadata": {},
     "output_type": "execute_result"
    }
   ],
   "source": [
    "IBMQ.load_account()"
   ]
  },
  {
   "cell_type": "code",
   "execution_count": 8,
   "id": "ce25a77b-fad1-4a83-b67e-2c382d64e77b",
   "metadata": {},
   "outputs": [],
   "source": [
    "from qiskit import *"
   ]
  },
  {
   "cell_type": "code",
   "execution_count": 9,
   "id": "cd803916-3e12-47d5-86d2-4f85e4cdb019",
   "metadata": {},
   "outputs": [],
   "source": [
    "qr = QuantumRegister(2) #builds 2 qubit quantum circuit"
   ]
  },
  {
   "cell_type": "code",
   "execution_count": 10,
   "id": "2a04956f-5c18-493f-92dd-49653aed0cfc",
   "metadata": {},
   "outputs": [],
   "source": [
    "cr = ClassicalRegister(2) #takes measurement from qubits"
   ]
  },
  {
   "cell_type": "code",
   "execution_count": 11,
   "id": "13ae44bb-a6b4-4614-8488-4af3d4acfc20",
   "metadata": {},
   "outputs": [],
   "source": [
    "circuit = QuantumCircuit(qr, cr)"
   ]
  },
  {
   "cell_type": "code",
   "execution_count": 18,
   "id": "5ada9c14-448b-42c6-ad3d-701c77a07f37",
   "metadata": {},
   "outputs": [],
   "source": [
    "%matplotlib inline"
   ]
  },
  {
   "cell_type": "code",
   "execution_count": 19,
   "id": "40b64a15-3f14-4dfe-9f39-315a61f37559",
   "metadata": {},
   "outputs": [
    {
     "data": {
      "text/html": [
       "<pre style=\"word-wrap: normal;white-space: pre;background: #fff0;line-height: 1.1;font-family: &quot;Courier New&quot;,Courier,monospace\">      \n",
       "q0_0: \n",
       "      \n",
       "q0_1: \n",
       "      \n",
       "c0: 2/\n",
       "      </pre>"
      ],
      "text/plain": [
       "      \n",
       "q0_0: \n",
       "      \n",
       "q0_1: \n",
       "      \n",
       "c0: 2/\n",
       "      "
      ]
     },
     "execution_count": 19,
     "metadata": {},
     "output_type": "execute_result"
    }
   ],
   "source": [
    "circuit.draw()"
   ]
  },
  {
   "cell_type": "code",
   "execution_count": 20,
   "id": "0e4a4118-133a-4a60-ba64-c6f1cf08c2ff",
   "metadata": {},
   "outputs": [
    {
     "data": {
      "text/plain": [
       "<qiskit.circuit.instructionset.InstructionSet at 0x1dbbb5d4be0>"
      ]
     },
     "execution_count": 20,
     "metadata": {},
     "output_type": "execute_result"
    }
   ],
   "source": [
    "circuit.h(qr[0])"
   ]
  },
  {
   "cell_type": "code",
   "execution_count": 21,
   "id": "4373f334-6ee4-495c-a8c7-23bbdbba8bdc",
   "metadata": {},
   "outputs": [
    {
     "data": {
      "image/png": "[encoded data removed]",
      "text/plain": [
       "<Figure size 221.712x284.278 with 1 Axes>"
      ]
     },
     "execution_count": 21,
     "metadata": {},
     "output_type": "execute_result"
    }
   ],
   "source": [
    "circuit.draw(output='mpl')"
   ]
  },
  {
   "cell_type": "code",
   "execution_count": 22,
   "id": "1b3dfb7b-fff5-4270-b452-dd60eb5be55f",
   "metadata": {},
   "outputs": [
    {
     "data": {
      "text/plain": [
       "<qiskit.circuit.instructionset.InstructionSet at 0x1dbbd76e020>"
      ]
     },
     "execution_count": 22,
     "metadata": {},
     "output_type": "execute_result"
    }
   ],
   "source": [
    "circuit.cx(qr[0], qr[1])"
   ]
  },
  {
   "cell_type": "code",
   "execution_count": 23,
   "id": "eec64212-3185-4c96-8e14-7dca1317f24e",
   "metadata": {},
   "outputs": [
    {
     "data": {
      "image/png": "[encoded data removed]",
      "text/plain": [
       "<Figure size 305.323x284.278 with 1 Axes>"
      ]
     },
     "execution_count": 23,
     "metadata": {},
     "output_type": "execute_result"
    }
   ],
   "source": [
    "circuit.draw(output='mpl')"
   ]
  },
  {
   "cell_type": "code",
   "execution_count": 24,
   "id": "ada22965-9118-44a9-a427-d1a7af0da8e3",
   "metadata": {},
   "outputs": [
    {
     "data": {
      "text/plain": [
       "<qiskit.circuit.instructionset.InstructionSet at 0x1dbbb6cc850>"
      ]
     },
     "execution_count": 24,
     "metadata": {},
     "output_type": "execute_result"
    }
   ],
   "source": [
    "circuit.measure(qr, cr)"
   ]
  },
  {
   "cell_type": "code",
   "execution_count": 25,
   "id": "22200701-eee7-489a-8072-f254499e6264",
   "metadata": {},
   "outputs": [
    {
     "data": {
      "image/png": "[encoded data removed]",
      "text/plain": [
       "<Figure size 472.545x284.278 with 1 Axes>"
      ]
     },
     "execution_count": 25,
     "metadata": {},
     "output_type": "execute_result"
    }
   ],
   "source": [
    "circuit.draw(output='mpl')"
   ]
  },
  {
   "cell_type": "code",
   "execution_count": 31,
   "id": "1a5c5555-1440-441a-afbf-3ff8f7912459",
   "metadata": {
    "scrolled": true
   },
   "outputs": [
    {
     "name": "stdout",
     "output_type": "stream",
     "text": [
      "Defaulting to user installation because normal site-packages is not writeable\n",
      "Collecting qiskit-aer\n",
      "  Using cached qiskit_aer-0.14.0.1-cp311-cp311-win_amd64.whl.metadata (6.2 kB)\n",
      "Collecting qiskit>=0.45.0 (from qiskit-aer)\n",
      "  Using cached qiskit-1.0.2-cp38-abi3-win_amd64.whl.metadata (12 kB)\n",
      "Requirement already satisfied: numpy>=1.16.3 in c:\\users\\administrator\\appdata\\roaming\\python\\python311\\site-packages (from qiskit-aer) (1.23.5)\n",
      "Requirement already satisfied: scipy>=1.0 in c:\\users\\administrator\\appdata\\roaming\\python\\python311\\site-packages (from qiskit-aer) (1.11.1)\n",
      "Requirement already satisfied: psutil>=5 in c:\\users\\administrator\\appdata\\roaming\\python\\python311\\site-packages (from qiskit-aer) (5.9.5)\n",
      "Requirement already satisfied: rustworkx>=0.14.0 in c:\\users\\administrator\\appdata\\roaming\\python\\python311\\site-packages (from qiskit>=0.45.0->qiskit-aer) (0.14.2)\n",
      "Requirement already satisfied: sympy>=1.3 in c:\\users\\administrator\\appdata\\roaming\\python\\python311\\site-packages (from qiskit>=0.45.0->qiskit-aer) (1.12)\n",
      "Requirement already satisfied: dill>=0.3 in c:\\users\\administrator\\appdata\\roaming\\python\\python311\\site-packages (from qiskit>=0.45.0->qiskit-aer) (0.3.8)\n",
      "Requirement already satisfied: python-dateutil>=2.8.0 in c:\\users\\administrator\\appdata\\roaming\\python\\python311\\site-packages (from qiskit>=0.45.0->qiskit-aer) (2.8.2)\n",
      "Requirement already satisfied: stevedore>=3.0.0 in c:\\users\\administrator\\appdata\\roaming\\python\\python311\\site-packages (from qiskit>=0.45.0->qiskit-aer) (5.2.0)\n",
      "Requirement already satisfied: typing-extensions in c:\\users\\administrator\\appdata\\roaming\\python\\python311\\site-packages (from qiskit>=0.45.0->qiskit-aer) (4.10.0)\n",
      "Requirement already satisfied: symengine>=0.11 in c:\\users\\administrator\\appdata\\roaming\\python\\python311\\site-packages (from qiskit>=0.45.0->qiskit-aer) (0.11.0)\n",
      "Requirement already satisfied: six>=1.5 in c:\\users\\administrator\\appdata\\roaming\\python\\python311\\site-packages (from python-dateutil>=2.8.0->qiskit>=0.45.0->qiskit-aer) (1.16.0)\n",
      "Requirement already satisfied: pbr!=2.1.0,>=2.0.0 in c:\\users\\administrator\\appdata\\roaming\\python\\python311\\site-packages (from stevedore>=3.0.0->qiskit>=0.45.0->qiskit-aer) (6.0.0)\n",
      "Requirement already satisfied: mpmath>=0.19 in c:\\users\\administrator\\appdata\\roaming\\python\\python311\\site-packages (from sympy>=1.3->qiskit>=0.45.0->qiskit-aer) (1.3.0)\n",
      "Using cached qiskit_aer-0.14.0.1-cp311-cp311-win_amd64.whl (9.5 MB)\n",
      "Using cached qiskit-1.0.2-cp38-abi3-win_amd64.whl (4.1 MB)\n",
      "Installing collected packages: qiskit, qiskit-aer\n",
      "  Attempting uninstall: qiskit\n",
      "    Found existing installation: qiskit 0.44.0\n",
      "    Uninstalling qiskit-0.44.0:\n",
      "      Successfully uninstalled qiskit-0.44.0\n",
      "  Rolling back uninstall of qiskit\n",
      "  Moving to c:\\users\\administrator\\appdata\\roaming\\python\\python311\\site-packages\\qiskit-0.44.0.dist-info\\\n",
      "   from C:\\Users\\Administrator\\AppData\\Roaming\\Python\\Python311\\site-packages\\~iskit-0.44.0.dist-info\n"
     ]
    },
    {
     "name": "stderr",
     "output_type": "stream",
     "text": [
      "DEPRECATION: Loading egg at c:\\program files\\python311\\lib\\site-packages\\vboxapi-1.0-py3.11.egg is deprecated. pip 24.3 will enforce this behaviour change. A possible replacement is to use pip for package installation.. Discussion can be found at https://github.com/pypa/pip/issues/12330\n",
      "ERROR: Could not install packages due to an OSError: [WinError 5] Access is denied: 'C:\\\\Users\\\\Administrator\\\\AppData\\\\Roaming\\\\Python\\\\Python311\\\\site-packages\\\\qiskit\\\\_accelerate.pyd'\n",
      "Check the permissions.\n",
      "\n"
     ]
    }
   ],
   "source": [
    "!pip install qiskit-aer"
   ]
  },
  {
   "cell_type": "code",
   "execution_count": 32,
   "id": "ac14858e-79c3-4cb9-b00c-861b1e707479",
   "metadata": {},
   "outputs": [
    {
     "name": "stdout",
     "output_type": "stream",
     "text": [
      "Unexpected exception formatting exception. Falling back to standard exception\n"
     ]
    },
    {
     "name": "stderr",
     "output_type": "stream",
     "text": [
      "Traceback (most recent call last):\n",
      "  File \"C:\\Users\\Administrator\\AppData\\Roaming\\Python\\Python311\\site-packages\\qiskit\\__init__.py\", line 123, in __getattr__\n",
      "ImportError: cannot import name 'aer' from 'qiskit.providers' (C:\\Users\\Administrator\\AppData\\Roaming\\Python\\Python311\\site-packages\\qiskit\\providers\\__init__.py)\n",
      "\n",
      "The above exception was the direct cause of the following exception:\n",
      "\n",
      "Traceback (most recent call last):\n",
      "  File \"C:\\Users\\Administrator\\AppData\\Roaming\\Python\\Python311\\site-packages\\IPython\\core\\interactiveshell.py\", line 3508, in run_code\n",
      "    exec(code_obj, self.user_global_ns, self.user_ns)\n",
      "  File \"C:\\Users\\Administrator\\AppData\\Local\\Temp\\ipykernel_4940\\683745692.py\", line 1, in <module>\n",
      "    simulator = Aer.get_backend('qasm_simulator')\n",
      "                ^^^^^^^^^^^^^^^\n",
      "  File \"C:\\Users\\Administrator\\AppData\\Roaming\\Python\\Python311\\site-packages\\qiskit\\__init__.py\", line 134, in __getattr__\n",
      "qiskit.exceptions.MissingOptionalLibraryError: \"The 'qiskit-aer' library is required to use 'Aer provider'. You can install it with 'pip install qiskit-aer'.\"\n",
      "\n",
      "During handling of the above exception, another exception occurred:\n",
      "\n",
      "Traceback (most recent call last):\n",
      "  File \"C:\\Users\\Administrator\\AppData\\Roaming\\Python\\Python311\\site-packages\\IPython\\core\\interactiveshell.py\", line 2105, in showtraceback\n",
      "    stb = self.InteractiveTB.structured_traceback(\n",
      "          ^^^^^^^^^^^^^^^^^^^^^^^^^^^^^^^^^^^^^^^^\n",
      "  File \"C:\\Users\\Administrator\\AppData\\Roaming\\Python\\Python311\\site-packages\\IPython\\core\\ultratb.py\", line 1428, in structured_traceback\n",
      "    return FormattedTB.structured_traceback(\n",
      "           ^^^^^^^^^^^^^^^^^^^^^^^^^^^^^^^^^\n",
      "  File \"C:\\Users\\Administrator\\AppData\\Roaming\\Python\\Python311\\site-packages\\IPython\\core\\ultratb.py\", line 1319, in structured_traceback\n",
      "    return VerboseTB.structured_traceback(\n",
      "           ^^^^^^^^^^^^^^^^^^^^^^^^^^^^^^^\n",
      "  File \"C:\\Users\\Administrator\\AppData\\Roaming\\Python\\Python311\\site-packages\\IPython\\core\\ultratb.py\", line 1172, in structured_traceback\n",
      "    formatted_exception = self.format_exception_as_a_whole(etype, evalue, etb, number_of_lines_of_context,\n",
      "                          ^^^^^^^^^^^^^^^^^^^^^^^^^^^^^^^^^^^^^^^^^^^^^^^^^^^^^^^^^^^^^^^^^^^^^^^^^^^^^^^^\n",
      "  File \"C:\\Users\\Administrator\\AppData\\Roaming\\Python\\Python311\\site-packages\\IPython\\core\\ultratb.py\", line 1087, in format_exception_as_a_whole\n",
      "    frames.append(self.format_record(record))\n",
      "                  ^^^^^^^^^^^^^^^^^^^^^^^^^^\n",
      "  File \"C:\\Users\\Administrator\\AppData\\Roaming\\Python\\Python311\\site-packages\\IPython\\core\\ultratb.py\", line 969, in format_record\n",
      "    frame_info.lines, Colors, self.has_colors, lvals\n",
      "    ^^^^^^^^^^^^^^^^\n",
      "  File \"C:\\Users\\Administrator\\AppData\\Roaming\\Python\\Python311\\site-packages\\IPython\\core\\ultratb.py\", line 792, in lines\n",
      "    return self._sd.lines\n",
      "           ^^^^^^^^^^^^^^\n",
      "  File \"C:\\Users\\Administrator\\AppData\\Roaming\\Python\\Python311\\site-packages\\stack_data\\utils.py\", line 144, in cached_property_wrapper\n",
      "    value = obj.__dict__[self.func.__name__] = self.func(obj)\n",
      "                                               ^^^^^^^^^^^^^^\n",
      "  File \"C:\\Users\\Administrator\\AppData\\Roaming\\Python\\Python311\\site-packages\\stack_data\\core.py\", line 734, in lines\n",
      "    pieces = self.included_pieces\n",
      "             ^^^^^^^^^^^^^^^^^^^^\n",
      "  File \"C:\\Users\\Administrator\\AppData\\Roaming\\Python\\Python311\\site-packages\\stack_data\\utils.py\", line 144, in cached_property_wrapper\n",
      "    value = obj.__dict__[self.func.__name__] = self.func(obj)\n",
      "                                               ^^^^^^^^^^^^^^\n",
      "  File \"C:\\Users\\Administrator\\AppData\\Roaming\\Python\\Python311\\site-packages\\stack_data\\core.py\", line 681, in included_pieces\n",
      "    pos = scope_pieces.index(self.executing_piece)\n",
      "                             ^^^^^^^^^^^^^^^^^^^^\n",
      "  File \"C:\\Users\\Administrator\\AppData\\Roaming\\Python\\Python311\\site-packages\\stack_data\\utils.py\", line 144, in cached_property_wrapper\n",
      "    value = obj.__dict__[self.func.__name__] = self.func(obj)\n",
      "                                               ^^^^^^^^^^^^^^\n",
      "  File \"C:\\Users\\Administrator\\AppData\\Roaming\\Python\\Python311\\site-packages\\stack_data\\core.py\", line 660, in executing_piece\n",
      "    return only(\n",
      "           ^^^^^\n",
      "  File \"C:\\Users\\Administrator\\AppData\\Roaming\\Python\\Python311\\site-packages\\executing\\executing.py\", line 190, in only\n",
      "    raise NotOneValueFound('Expected one value, found 0')\n",
      "executing.executing.NotOneValueFound: Expected one value, found 0\n"
     ]
    }
   ],
   "source": [
    "simulator = Aer.get_backend('qasm_simulator')"
   ]
  },
  {
   "cell_type": "code",
   "execution_count": null,
   "id": "a6940482-dbb8-4593-a744-523d4660c874",
   "metadata": {},
   "outputs": [],
   "source": [
    "result = execute(circuit, backend = simulator).result()"
   ]
  },
  {
   "cell_type": "code",
   "execution_count": 34,
   "id": "a379e599-fbdc-42a7-a7ca-634224c67955",
   "metadata": {},
   "outputs": [],
   "source": [
    "from qiskit.tools.visualization import plot_histogram"
   ]
  },
  {
   "cell_type": "code",
   "execution_count": null,
   "id": "5fe004cc-e7eb-4851-848e-abdf6abb7ee6",
   "metadata": {},
   "outputs": [],
   "source": [
    "plot_histogram(result.get_counts(circuit))"
   ]
  },
  {
   "cell_type": "code",
   "execution_count": null,
   "id": "1c4b8080-cbd3-41b7-b162-035f3e25c7ef",
   "metadata": {},
   "outputs": [],
   "source": []
  }
 ],
 "metadata": {
  "kernelspec": {
   "display_name": "Python 3 (ipykernel)",
   "language": "python",
   "name": "python3"
  },
  "language_info": {
   "codemirror_mode": {
    "name": "ipython",
    "version": 3
   },
   "file_extension": ".py",
   "mimetype": "text/x-python",
   "name": "python",
   "nbconvert_exporter": "python",
   "pygments_lexer": "ipython3",
   "version": "3.11.3"
  }
 },
 "nbformat": 4,
 "nbformat_minor": 5
}
